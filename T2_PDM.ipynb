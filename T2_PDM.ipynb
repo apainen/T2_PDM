{
  "nbformat": 4,
  "nbformat_minor": 0,
  "metadata": {
    "colab": {
      "provenance": []
    },
    "kernelspec": {
      "name": "python3",
      "display_name": "Python 3"
    },
    "language_info": {
      "name": "python"
    }
  },
  "cells": [
    {
      "cell_type": "markdown",
      "source": [
        "De la documentacion de Neo4J aura DB tenemos que:"
      ],
      "metadata": {
        "id": "soEKl1egZncq"
      }
    },
    {
      "cell_type": "code",
      "source": [
        "!pip install neo4j\n",
        "!pip install pyspark"
      ],
      "metadata": {
        "colab": {
          "base_uri": "https://localhost:8080/"
        },
        "id": "NZy5uKsPWQBu",
        "outputId": "5109e746-f332-4f65-fed1-4c9cd4a53536"
      },
      "execution_count": 2,
      "outputs": [
        {
          "output_type": "stream",
          "name": "stdout",
          "text": [
            "Collecting neo4j\n",
            "  Downloading neo4j-5.21.0-py3-none-any.whl (286 kB)\n",
            "\u001b[2K     \u001b[90m━━━━━━━━━━━━━━━━━━━━━━━━━━━━━━━━━━━━━━━━\u001b[0m \u001b[32m286.8/286.8 kB\u001b[0m \u001b[31m4.0 MB/s\u001b[0m eta \u001b[36m0:00:00\u001b[0m\n",
            "\u001b[?25hRequirement already satisfied: pytz in /usr/local/lib/python3.10/dist-packages (from neo4j) (2023.4)\n",
            "Installing collected packages: neo4j\n",
            "Successfully installed neo4j-5.21.0\n",
            "Collecting pyspark\n",
            "  Downloading pyspark-3.5.1.tar.gz (317.0 MB)\n",
            "\u001b[2K     \u001b[90m━━━━━━━━━━━━━━━━━━━━━━━━━━━━━━━━━━━━━━━━\u001b[0m \u001b[32m317.0/317.0 MB\u001b[0m \u001b[31m4.4 MB/s\u001b[0m eta \u001b[36m0:00:00\u001b[0m\n",
            "\u001b[?25h  Preparing metadata (setup.py) ... \u001b[?25l\u001b[?25hdone\n",
            "Requirement already satisfied: py4j==0.10.9.7 in /usr/local/lib/python3.10/dist-packages (from pyspark) (0.10.9.7)\n",
            "Building wheels for collected packages: pyspark\n",
            "  Building wheel for pyspark (setup.py) ... \u001b[?25l\u001b[?25hdone\n",
            "  Created wheel for pyspark: filename=pyspark-3.5.1-py2.py3-none-any.whl size=317488491 sha256=3b192fffeecc2207f2e5ad83ba1e13e817d7ee3f55a8301791c295413f91c16a\n",
            "  Stored in directory: /root/.cache/pip/wheels/80/1d/60/2c256ed38dddce2fdd93be545214a63e02fbd8d74fb0b7f3a6\n",
            "Successfully built pyspark\n",
            "Installing collected packages: pyspark\n",
            "Successfully installed pyspark-3.5.1\n"
          ]
        }
      ]
    },
    {
      "cell_type": "markdown",
      "source": [
        "Preparando el entorno de programación:"
      ],
      "metadata": {
        "id": "jOKKmtL1iTOe"
      }
    },
    {
      "cell_type": "code",
      "source": [
        "# Import the driver\n",
        "from neo4j import GraphDatabase\n",
        "\n",
        "# Replace with the actual URI, username, and password\n",
        "AURA_CONNECTION_URI = \"neo4j+s://85e8aff6.databases.neo4j.io\"\n",
        "AURA_USERNAME = \"neo4j\"\n",
        "AURA_PASSWORD = \"BjfDCM2mLhBLRhzlS629LFnZzpVHUfDFs4jVBnnvjPE\"\n",
        "\n",
        "# Instantiate the driver\n",
        "driver = GraphDatabase.driver(\n",
        "    AURA_CONNECTION_URI,\n",
        "    auth=(AURA_USERNAME, AURA_PASSWORD)\n",
        ")"
      ],
      "metadata": {
        "id": "YMhY1m2wZdJB"
      },
      "execution_count": 3,
      "outputs": []
    },
    {
      "cell_type": "code",
      "source": [
        "# Prueba de conexión\n",
        "try:\n",
        "    with driver.session() as session:\n",
        "        result = session.run(\"RETURN 1\")\n",
        "        print(\"Conexión exitosa, credenciales correctas.\")\n",
        "except Exception as e:\n",
        "    print(f\"Error al conectar a Neo4j: {e}\")"
      ],
      "metadata": {
        "id": "asjXzJlSbe6B",
        "outputId": "8e6c1ad2-9f6a-414c-ebf8-fe52d3d10e0e",
        "colab": {
          "base_uri": "https://localhost:8080/"
        }
      },
      "execution_count": 4,
      "outputs": [
        {
          "output_type": "stream",
          "name": "stdout",
          "text": [
            "Conexión exitosa, credenciales correctas.\n"
          ]
        }
      ]
    },
    {
      "cell_type": "markdown",
      "source": [
        "#1.1 Precalentamiento: triángulos"
      ],
      "metadata": {
        "id": "jyKzBGpiVrDP"
      }
    },
    {
      "cell_type": "markdown",
      "source": [
        "Punto 1"
      ],
      "metadata": {
        "id": "s8Snpw1KiQbn"
      }
    },
    {
      "cell_type": "code",
      "source": [
        "def create_graph_in_neo4j(driver, edge_list):\n",
        "    with driver.session() as session:\n",
        "        # Limpiar la base de datos eliminando todos los nodos y relaciones existentes\n",
        "        session.run(\"MATCH (n) DETACH DELETE n\")\n",
        "\n",
        "        # Crear nodos y relaciones a partir de la lista de aristas\n",
        "        for u, l, v in edge_list:\n",
        "            session.run(\n",
        "                \"MERGE (a:Node {id: $u}) \"\n",
        "                \"MERGE (b:Node {id: $v}) \"\n",
        "                \"MERGE (a)-[:RELATION {label: $l}]->(b)\",\n",
        "                u=u, l=l, v=v\n",
        "            )"
      ],
      "metadata": {
        "id": "iiFyPdLUatXu"
      },
      "execution_count": 5,
      "outputs": []
    },
    {
      "cell_type": "code",
      "source": [
        "# Lista de aristas\n",
        "edge_list = [(1,11,2),(1,11,3),(2,11,3),(3,11,2),(3,11,4),(4,11,1),(4,11,2),(4,11,3),(4,12,5),(5,12,1),(5,12,2),(5,12,6)]\n",
        "\n",
        "# Crear el grafo en Neo4j\n",
        "create_graph_in_neo4j(driver, edge_list)"
      ],
      "metadata": {
        "id": "Y5J3G1MjbI6x"
      },
      "execution_count": 6,
      "outputs": []
    },
    {
      "cell_type": "markdown",
      "source": [
        "Punto 2"
      ],
      "metadata": {
        "id": "hs7DW-OliNBq"
      }
    },
    {
      "cell_type": "code",
      "source": [
        "from pyspark import SparkContext, SparkConf\n",
        "from pyspark.sql import SparkSession"
      ],
      "metadata": {
        "id": "HC4mAiLXbUrv"
      },
      "execution_count": 7,
      "outputs": []
    },
    {
      "cell_type": "code",
      "source": [
        "# Función para obtener aristas del grafo en Neo4j\n",
        "def get_edges_from_neo4j(driver):\n",
        "    query = \"\"\"\n",
        "    MATCH (a)-[r:RELATION]->(b)\n",
        "    RETURN a.id AS src, r.label AS label, b.id AS dst\n",
        "    \"\"\"\n",
        "    with driver.session() as session:\n",
        "        result = session.run(query)\n",
        "        edges = [(record['src'], record['label'], record['dst']) for record in result]\n",
        "    return edges"
      ],
      "metadata": {
        "id": "7owvBRmcZGuw"
      },
      "execution_count": 8,
      "outputs": []
    },
    {
      "cell_type": "code",
      "source": [
        "# Obtener aristas del grafo\n",
        "edges = get_edges_from_neo4j(driver)"
      ],
      "metadata": {
        "id": "ti1n6DlpZI1H"
      },
      "execution_count": 9,
      "outputs": []
    },
    {
      "cell_type": "code",
      "source": [
        "# Inicializar Spark\n",
        "spark = SparkSession.builder.appName(\"Neo4jToSpark\").getOrCreate()\n",
        "sc = spark.sparkContext"
      ],
      "metadata": {
        "id": "R9bzfxSwZKQn"
      },
      "execution_count": 10,
      "outputs": []
    },
    {
      "cell_type": "code",
      "source": [
        "# Crear RDD a partir de las aristas\n",
        "edges_rdd = sc.parallelize(edges)"
      ],
      "metadata": {
        "id": "9H4AxdzBZLrn"
      },
      "execution_count": 11,
      "outputs": []
    },
    {
      "cell_type": "code",
      "source": [
        "# Mostrar el contenido del RDD\n",
        "print(edges_rdd.collect())"
      ],
      "metadata": {
        "colab": {
          "base_uri": "https://localhost:8080/"
        },
        "id": "mqQ2loVQZO0I",
        "outputId": "64aeca9a-95d5-441c-df76-30c066b3b1c3"
      },
      "execution_count": 12,
      "outputs": [
        {
          "output_type": "stream",
          "name": "stdout",
          "text": [
            "[(5, 12, 6), (5, 12, 1), (5, 12, 2), (1, 11, 2), (1, 11, 3), (2, 11, 3), (3, 11, 2), (3, 11, 4), (4, 12, 5), (4, 11, 1), (4, 11, 2), (4, 11, 3)]\n"
          ]
        }
      ]
    },
    {
      "cell_type": "code",
      "source": [
        "# Detener Spark\n",
        "sc.stop()"
      ],
      "metadata": {
        "id": "Q0yHhpR9bn83"
      },
      "execution_count": 13,
      "outputs": []
    },
    {
      "cell_type": "markdown",
      "source": [
        "Cada tupla en esta lista representa una arista en el grafo que se extrajo de Neo4j."
      ],
      "metadata": {
        "id": "iWWptsKQZkdz"
      }
    },
    {
      "cell_type": "code",
      "source": [
        "# Inicializar Spark\n",
        "conf = SparkConf().setAppName(\"TriangleFinding\").setMaster(\"local[*]\")\n",
        "sc = SparkContext(conf=conf)"
      ],
      "metadata": {
        "id": "fMdjZPwBZk8_"
      },
      "execution_count": 14,
      "outputs": []
    },
    {
      "cell_type": "code",
      "source": [
        "# Ejemplo de lista de aristas (solo con etiqueta 11)\n",
        "edge_list = [(1, 11, 2), (1, 11, 3), (2, 11, 3), (3, 11, 2), (3, 11, 4),\n",
        "         (4, 11, 1), (4, 11, 2), (4, 11, 3), (4, 12, 5), (5, 12, 1),\n",
        "         (5, 12, 2), (5, 12, 6)]"
      ],
      "metadata": {
        "id": "ScBIoU50bbm4"
      },
      "execution_count": 15,
      "outputs": []
    },
    {
      "cell_type": "code",
      "source": [
        "# Parámetro b\n",
        "b = 2  # Este valor se puede ajustar según el tamaño del clúster y el grafo"
      ],
      "metadata": {
        "id": "4mc2yABVbesP"
      },
      "execution_count": 16,
      "outputs": []
    },
    {
      "cell_type": "code",
      "source": [
        "# Función mapper que genera combinaciones necesarias para formar triángulos\n",
        "def mapper(arista):\n",
        "    n1, R, n2 = arista\n",
        "    b1 = n1 % b\n",
        "    b2 = n2 % b\n",
        "    results = []\n",
        "\n",
        "    # Generar todas las combinaciones necesarias para formar triángulos\n",
        "    keys = [\n",
        "        (b1, b2, i) for i in range(b)\n",
        "    ] + [\n",
        "        (b2, i, b1) for i in range(b)\n",
        "    ] + [\n",
        "        (i, b1, b2) for i in range(b)\n",
        "    ]\n",
        "\n",
        "    for key in keys:\n",
        "        results.append((key, (n1, R, n2)))\n",
        "\n",
        "    return results"
      ],
      "metadata": {
        "id": "axVoaIc4bgc_"
      },
      "execution_count": 17,
      "outputs": []
    },
    {
      "cell_type": "code",
      "source": [
        "# Función reducer que busca triángulos en el grupo de aristas\n",
        "def reducer(key, values):\n",
        "    triangles = []\n",
        "    value_list = list(values)\n",
        "\n",
        "    # Buscar triángulos en el grupo de aristas\n",
        "    for i in range(len(value_list)):\n",
        "        n1, R, n2 = value_list[i]\n",
        "        for j in range(i+1, len(value_list)):\n",
        "            m1, S, m2 = value_list[j]\n",
        "            if n2 == m1:\n",
        "                for k in range(j+1, len(value_list)):\n",
        "                    p1, T, p2 = value_list[k]\n",
        "                    if m2 == p1 and p2 == n1:\n",
        "                        triangles.append((n1, n2, m2))\n",
        "\n",
        "    return triangles"
      ],
      "metadata": {
        "id": "zhREjVXWbh0v"
      },
      "execution_count": 18,
      "outputs": []
    },
    {
      "cell_type": "code",
      "source": [
        "# Crear RDD con las aristas\n",
        "edges_rdd = sc.parallelize(edge_list)"
      ],
      "metadata": {
        "id": "W0P0ATtNbjYv"
      },
      "execution_count": 19,
      "outputs": []
    },
    {
      "cell_type": "code",
      "source": [
        "# Aplicar el mapper para generar combinaciones de triángulos\n",
        "mapped_edges = edges_rdd.flatMap(mapper)"
      ],
      "metadata": {
        "id": "C2hx2xt-bkpo"
      },
      "execution_count": 20,
      "outputs": []
    },
    {
      "cell_type": "code",
      "source": [
        "# Agrupar por clave y reducir\n",
        "grouped_edges = mapped_edges.groupByKey()\n",
        "triangles = grouped_edges.flatMap(lambda x: reducer(x[0], x[1]))"
      ],
      "metadata": {
        "id": "D69yHz9WeFIX"
      },
      "execution_count": 21,
      "outputs": []
    },
    {
      "cell_type": "code",
      "source": [
        "# Obtener los triángulos encontrados\n",
        "found_triangles = set(triangles.collect())"
      ],
      "metadata": {
        "id": "--SXcWsdeGSg"
      },
      "execution_count": 22,
      "outputs": []
    },
    {
      "cell_type": "code",
      "source": [
        "# Mostrar los triángulos encontrados\n",
        "print(\"Triángulos encontrados:\")\n",
        "for triangle in found_triangles:\n",
        "    print(triangle)"
      ],
      "metadata": {
        "colab": {
          "base_uri": "https://localhost:8080/"
        },
        "id": "sD1YqW0FeHjX",
        "outputId": "300d7e95-a235-4c3f-a870-6b62a92bad1b"
      },
      "execution_count": 23,
      "outputs": [
        {
          "output_type": "stream",
          "name": "stdout",
          "text": [
            "Triángulos encontrados:\n",
            "(2, 3, 4)\n",
            "(1, 3, 4)\n"
          ]
        }
      ]
    },
    {
      "cell_type": "code",
      "source": [
        "# Detener Spark\n",
        "sc.stop()"
      ],
      "metadata": {
        "id": "AjVn2nyBsMEF"
      },
      "execution_count": 24,
      "outputs": []
    },
    {
      "cell_type": "markdown",
      "source": [
        "# Precalentamiento2: triángulos que usen cualquier arista\n",
        "\n",
        "De manera similar a la parte **1.1**, pero ajustamos las funciones para que considere que la etiqueta puede ser cualquiera."
      ],
      "metadata": {
        "id": "sIRb1WxNibDD"
      }
    },
    {
      "cell_type": "code",
      "source": [
        "# Inicializar Spark\n",
        "conf = SparkConf().setAppName(\"PatternFinding\").setMaster(\"local[*]\")\n",
        "sc = SparkContext(conf=conf)"
      ],
      "metadata": {
        "id": "zDPYGRX1vSbm"
      },
      "execution_count": 25,
      "outputs": []
    },
    {
      "cell_type": "code",
      "source": [
        "# Función para leer la matriz M y obtener las aristas\n",
        "def leer_matriz(M, A, L):\n",
        "    aristas = []\n",
        "    for i in range(len(M)):\n",
        "        for j in range(len(M[i])):\n",
        "            for k in range(len(M[i][j])):\n",
        "                if M[i][j][k] == 1:\n",
        "                    aristas.append((A[i], L[j], A[k]))\n",
        "    return aristas"
      ],
      "metadata": {
        "id": "UcEQQP6LvyPO"
      },
      "execution_count": 26,
      "outputs": []
    },
    {
      "cell_type": "code",
      "source": [
        "# Definir nodos (A) de manera simbólica y etiquetas de aristas (L)\n",
        "\n",
        "A = [1, 2, 3, 4]\n",
        "L = [11, 12]"
      ],
      "metadata": {
        "id": "h4naBHJKvzjG"
      },
      "execution_count": 27,
      "outputs": []
    },
    {
      "cell_type": "code",
      "source": [
        "# Definir la matriz M (como ejemplo)\n",
        "M = [\n",
        "    [\n",
        "        [0, 1, 0, 0],  # x\n",
        "        [0, 0, 0, 0],  # y\n",
        "    ],\n",
        "    [\n",
        "        [0, 0, 0, 0],  # z\n",
        "        [0, 0, 1, 0],  # w\n",
        "    ],\n",
        "    [\n",
        "        [1, 0, 0, 0],  # x\n",
        "        [0, 0, 0, 0],  # y\n",
        "    ],\n",
        "    [\n",
        "        [0, 0, 0, 0],  # w\n",
        "        [0, 0, 0, 0],  # x\n",
        "    ]\n",
        "]"
      ],
      "metadata": {
        "id": "MhipCQ03v0q-"
      },
      "execution_count": 28,
      "outputs": []
    },
    {
      "cell_type": "code",
      "source": [
        "# Leer la matriz M y obtener las aristas\n",
        "aristas = leer_matriz(M, A, L)"
      ],
      "metadata": {
        "id": "LU3S366Rv12t"
      },
      "execution_count": 29,
      "outputs": []
    },
    {
      "cell_type": "code",
      "source": [
        "# Crear RDD con las aristas\n",
        "edges_rdd = sc.parallelize(aristas)"
      ],
      "metadata": {
        "id": "-jQP-kaov3Me"
      },
      "execution_count": 30,
      "outputs": []
    },
    {
      "cell_type": "code",
      "source": [
        "# Mostrar el contenido del RDD\n",
        "print(edges_rdd.collect())"
      ],
      "metadata": {
        "colab": {
          "base_uri": "https://localhost:8080/"
        },
        "id": "v1IY7OuIwMb2",
        "outputId": "e747f21b-caf0-4b4e-9bba-3a5f46a35e54"
      },
      "execution_count": 31,
      "outputs": [
        {
          "output_type": "stream",
          "name": "stdout",
          "text": [
            "[(1, 11, 2), (2, 12, 3), (3, 11, 1)]\n"
          ]
        }
      ]
    },
    {
      "cell_type": "markdown",
      "source": [
        "punto 3"
      ],
      "metadata": {
        "id": "IkoA6obexjXq"
      }
    },
    {
      "cell_type": "code",
      "source": [
        "# Función mapper que genera combinaciones necesarias para formar triángulos\n",
        "def mapper(arista):\n",
        "    n1, R, n2 = arista\n",
        "    b1 = A.index(n1) % b\n",
        "    b2 = A.index(n2) % b\n",
        "    results = []\n",
        "\n",
        "    # Generar todas las combinaciones necesarias para formar triángulos\n",
        "    keys = [\n",
        "        (b1, b2, i) for i in range(b)\n",
        "    ] + [\n",
        "        (b2, i, b1) for i in range(b)\n",
        "    ] + [\n",
        "        (i, b1, b2) for i in range(b)\n",
        "    ]\n",
        "\n",
        "    for key in keys:\n",
        "        results.append((key, (n1, R, n2)))\n",
        "\n",
        "    return results"
      ],
      "metadata": {
        "id": "qNEAmLUyv4Wu"
      },
      "execution_count": 32,
      "outputs": []
    },
    {
      "cell_type": "code",
      "source": [
        "# Función reducer que busca triángulos en el grupo de aristas\n",
        "def reducer(key, values):\n",
        "    triangles = []\n",
        "    value_list = list(values)\n",
        "\n",
        "    # Buscar triángulos en el grupo de aristas\n",
        "    for i in range(len(value_list)):\n",
        "        n1, R, n2 = value_list[i]\n",
        "        for j in range(i+1, len(value_list)):\n",
        "            m1, S, m2 = value_list[j]\n",
        "            if n2 == m1:\n",
        "                for k in range(j+1, len(value_list)):\n",
        "                    p1, T, p2 = value_list[k]\n",
        "                    if m2 == p1 and p2 == n1:\n",
        "                        triangles.append((n1, n2, m2))\n",
        "\n",
        "    return triangles"
      ],
      "metadata": {
        "id": "RzxdceZfv5hF"
      },
      "execution_count": 33,
      "outputs": []
    },
    {
      "cell_type": "code",
      "source": [
        "# Parámetro b\n",
        "b = 2  # Este valor se puede ajustar según el tamaño del clúster y el grafo"
      ],
      "metadata": {
        "id": "L3ejTO8rv6ym"
      },
      "execution_count": 34,
      "outputs": []
    },
    {
      "cell_type": "code",
      "source": [
        "# Aplicar el mapper para generar combinaciones de triángulos\n",
        "mapped_edges = edges_rdd.flatMap(mapper)"
      ],
      "metadata": {
        "id": "3Exx64crv77o"
      },
      "execution_count": 35,
      "outputs": []
    },
    {
      "cell_type": "code",
      "source": [
        "# Agrupar por clave y reducir\n",
        "grouped_edges = mapped_edges.groupByKey()\n",
        "triangles = grouped_edges.flatMap(lambda x: reducer(x[0], x[1]))"
      ],
      "metadata": {
        "id": "oBKISbFcv80V"
      },
      "execution_count": 36,
      "outputs": []
    },
    {
      "cell_type": "code",
      "source": [
        "# Obtener los triángulos encontrados\n",
        "found_triangles = set(triangles.collect())"
      ],
      "metadata": {
        "id": "9-8mrO7Zv9-l"
      },
      "execution_count": 37,
      "outputs": []
    },
    {
      "cell_type": "code",
      "source": [
        "# Mostrar los triángulos encontrados\n",
        "print(\"Triángulos encontrados:\")\n",
        "for triangle in found_triangles:\n",
        "    print(triangle)"
      ],
      "metadata": {
        "colab": {
          "base_uri": "https://localhost:8080/"
        },
        "id": "5yHVLNvbv_EF",
        "outputId": "ef8fe165-1eb5-4e04-c9e9-d0ddf32a47b4"
      },
      "execution_count": 38,
      "outputs": [
        {
          "output_type": "stream",
          "name": "stdout",
          "text": [
            "Triángulos encontrados:\n",
            "(1, 2, 3)\n"
          ]
        }
      ]
    },
    {
      "cell_type": "code",
      "source": [
        "# Detener Spark\n",
        "sc.stop()"
      ],
      "metadata": {
        "id": "ypd1y2ZawAzN"
      },
      "execution_count": 39,
      "outputs": []
    },
    {
      "cell_type": "markdown",
      "source": [
        "#3. Busqueda de patrones de 4 variables"
      ],
      "metadata": {
        "id": "0xMRL22axsc2"
      }
    },
    {
      "cell_type": "code",
      "source": [
        "# Convertimos la matriz M en una lista de aristas\n",
        "def matriz_a_aristas(M, A, L):\n",
        "    aristas = []\n",
        "    for i, a1 in enumerate(A):\n",
        "        for j, a2 in enumerate(A):\n",
        "            for k, etiqueta in enumerate(L):\n",
        "                if M[i][k][j] == 1:\n",
        "                    aristas.append((a1, etiqueta, a2))\n",
        "    return aristas"
      ],
      "metadata": {
        "id": "MGDCFVdlX_ew"
      },
      "execution_count": 40,
      "outputs": []
    },
    {
      "cell_type": "code",
      "source": [
        "# La funcion mapper cambia, para patrones de 4 variables\n",
        "\n",
        "b = 2  # definimos b como 2, pero puede ser ajustado\n",
        "\n",
        "def mapper(arista):\n",
        "    n1, R, n2 = arista\n",
        "    b1 = n1 % b\n",
        "    b2 = n2 % b\n",
        "    results = []\n",
        "\n",
        "    # Generar todas las combinaciones necesarias para formar patrones\n",
        "    keys = [\n",
        "        (b1, b2, 0, 0), (b1, b2, 1, 0),\n",
        "\t      (b1, b2, 0, 1), (b1, b2, 1, 1),\n",
        "        (0, b1, b2, 0), (1, b1, b2, 0),\n",
        "        (0, b1, b2, 1), (1, b1, b2, 1),\n",
        "        (b2, 0, 0, b1), (b2, 1, 0, b1),\n",
        "        (b2, 0, 1, b1), (b2, 1, 1, b1),\n",
        "\n",
        "    ]\n",
        "\n",
        "\n",
        "    for key in keys:\n",
        "        results.append((key, (n1, R, n2)))\n",
        "\n",
        "    return results"
      ],
      "metadata": {
        "id": "c3NLb51RXOIS"
      },
      "execution_count": 41,
      "outputs": []
    },
    {
      "cell_type": "code",
      "source": [
        "# Estas dos funciones encuentran los conjuntos de nodos que cumplen con el patron dado como cunsulta.\n",
        "# Toman como input el conjunto de aristas que comparten el mismo reducer.\n",
        "\n",
        "def combinar(aristas, patron, etiquetas_permitidas):\n",
        "    posibles_patrones = []\n",
        "\n",
        "    # Generar todas las combinaciones de aristas posibles\n",
        "    for primera_arista in aristas:\n",
        "        for segunda_arista in aristas:\n",
        "            if segunda_arista == primera_arista:\n",
        "                continue\n",
        "            for tercera_arista in aristas:\n",
        "                if tercera_arista in [primera_arista, segunda_arista]:\n",
        "                    continue\n",
        "                for cuarta_arista in aristas:\n",
        "                    if cuarta_arista in [primera_arista, segunda_arista, tercera_arista]:\n",
        "                        continue\n",
        "                    # Verificar si estas 4 aristas cumplen el patrón\n",
        "                    if cumple_patron([primera_arista, segunda_arista, tercera_arista, cuarta_arista], patron, etiquetas_permitidas):\n",
        "                        posibles_patrones.append((primera_arista[0], primera_arista[2], segunda_arista[2], tercera_arista[2]))\n",
        "\n",
        "    return posibles_patrones\n",
        "\n",
        "def cumple_patron(aristas, patron, etiquetas_permitidas):\n",
        "    mapeo = {}\n",
        "    #for arista, (x, y) in zip(aristas, patron):\n",
        "    for arista, (x, _, y) in zip(aristas, patron):\n",
        "        if arista[0] not in mapeo:\n",
        "            mapeo[arista[0]] = x\n",
        "        if arista[2] not in mapeo:\n",
        "            mapeo[arista[2]] = y\n",
        "        if arista[1] not in etiquetas_permitidas:\n",
        "            return False\n",
        "        if mapeo[arista[0]] != x or mapeo[arista[2]] != y:\n",
        "            return False\n",
        "    return True"
      ],
      "metadata": {
        "id": "MLMbjZMaUwSk"
      },
      "execution_count": 42,
      "outputs": []
    },
    {
      "cell_type": "code",
      "source": [
        "def main_ejecutar_algoritmo(aristas, patron, etiquetas_permitidas):\n",
        "  sc = SparkContext(\"local\", \"PatronCuatroNodos\")\n",
        "\n",
        "  # Convertimos las aristas extraidas de M a un RDD\n",
        "  aristas_rdd = sc.parallelize(aristas)\n",
        "\n",
        "  # Generamos las combinaciones necesarias y verificamos patrones\n",
        "  grouped_edges = aristas_rdd.flatMap(mapper).groupByKey().mapValues(list)\n",
        "  # grouped_edges consiste en las aristas mapeadas y agrupadas segun reducer\n",
        "\n",
        "  patrones_rdd_4 = grouped_edges.flatMap(lambda x: combinar(x[1], patron_4, L))\n",
        "\n",
        "  return set(patrones_rdd_4.collect())\n"
      ],
      "metadata": {
        "id": "odnXJT9rabUN"
      },
      "execution_count": 45,
      "outputs": []
    },
    {
      "cell_type": "code",
      "source": [
        "# Vamos a definir datos que funciones como ejemplo:\n",
        "\n",
        "# Datos recibidos como input\n",
        "A = [1, 2, 3, 4]\n",
        "L = [11, 12]\n",
        "M = [\n",
        "    [[0,0,0,1],\n",
        "     [0,0,0,0]],  # desde 1\n",
        "    [[1,0,0,0],\n",
        "     [0,0,1,0]],  # desde 2\n",
        "    [[0,1,0,0],\n",
        "     [0,1,0,0]],  # desde 3\n",
        "    [[0,0,1,0],\n",
        "     [0,0,0,0]]   # desde 4\n",
        "]\n",
        "\n",
        "patron_4 = [('x', 'u', 'y'), ('y', 'u', 'z'), ('z', 'u', 'w'), ('w', 'u', 'x')]\n",
        "\n",
        "\n",
        "aristas = matriz_a_aristas(M, A, L)     #funcion definida para extraer aristas de M\n",
        "\n",
        "\n",
        "# Ahora ejucutamos el algoritmo\n",
        "resultados = main_ejecutar_algoritmo(aristas, patron_4, L)\n",
        "print(resultados)\n",
        "sc.stop()\n",
        "\n"
      ],
      "metadata": {
        "colab": {
          "base_uri": "https://localhost:8080/"
        },
        "id": "wXdBA2VDa457",
        "outputId": "c1cb2734-f869-4790-b42b-9b687993e715"
      },
      "execution_count": 46,
      "outputs": [
        {
          "output_type": "stream",
          "name": "stdout",
          "text": [
            "{(1, 4, 3, 2), (2, 1, 4, 3), (3, 2, 1, 4), (4, 3, 2, 1)}\n"
          ]
        }
      ]
    },
    {
      "cell_type": "code",
      "source": [],
      "metadata": {
        "id": "yRyI3erJWuXN"
      },
      "execution_count": null,
      "outputs": []
    }
  ]
}